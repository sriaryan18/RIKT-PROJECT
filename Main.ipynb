{
 "cells": [
  {
   "cell_type": "code",
   "execution_count": null,
   "id": "2f38f940",
   "metadata": {},
   "outputs": [],
   "source": [
    "!pip install -r requirements.txt"
   ]
  },
  {
   "cell_type": "code",
   "execution_count": 1,
   "id": "bc06f8b5",
   "metadata": {},
   "outputs": [],
   "source": [
    "import warnings\n",
    "warnings.filterwarnings('ignore')"
   ]
  },
  {
   "cell_type": "code",
   "execution_count": 2,
   "id": "478fc74f",
   "metadata": {},
   "outputs": [],
   "source": [
    "import s2t_1"
   ]
  },
  {
   "cell_type": "code",
   "execution_count": 3,
   "id": "50db7f32",
   "metadata": {},
   "outputs": [
    {
     "name": "stdout",
     "output_type": "stream",
     "text": [
      "Recording Started for 10 seconds\n",
      "Recording Ended\n"
     ]
    }
   ],
   "source": [
    "\n",
    "path = \"recording1.wav\"\n",
    "obj=s2t_1.speechToText(path)\n",
    "obj.record(44100,)\n",
    "obj.get_large_audio_transcription()\n",
    "# obj.text_list"
   ]
  },
  {
   "cell_type": "code",
   "execution_count": 4,
   "id": "540d38f2",
   "metadata": {},
   "outputs": [
    {
     "data": {
      "text/plain": [
       "['Everyone my name is anand and i have completed my project today. ',\n",
       " 'I am feeling very good for this. ',\n",
       " 'Thank you. ']"
      ]
     },
     "execution_count": 4,
     "metadata": {},
     "output_type": "execute_result"
    }
   ],
   "source": [
    "obj.text_list"
   ]
  },
  {
   "cell_type": "code",
   "execution_count": 5,
   "id": "856820ee",
   "metadata": {
    "scrolled": true
   },
   "outputs": [],
   "source": [
    "import MLMODEL\n",
    "from transformers import pipeline"
   ]
  },
  {
   "cell_type": "code",
   "execution_count": 6,
   "id": "eff69982",
   "metadata": {},
   "outputs": [
    {
     "name": "stderr",
     "output_type": "stream",
     "text": [
      "All model checkpoint layers were used when initializing TFBertForSequenceClassification.\n",
      "\n",
      "All the layers of TFBertForSequenceClassification were initialized from the model checkpoint at sriAryan18/tf_bert_uncased_emotion_detection2.\n",
      "If your task is similar to the task the model of the checkpoint was trained on, you can already use TFBertForSequenceClassification for predictions without further training.\n"
     ]
    }
   ],
   "source": [
    "model_name=\"sriAryan18/tf_bert_uncased_emotion_detection2\"\n",
    "classifier=pipeline(\"text-classification\",model=model_name, return_all_scores=True)"
   ]
  },
  {
   "cell_type": "code",
   "execution_count": 7,
   "id": "5666dfb5",
   "metadata": {},
   "outputs": [
    {
     "data": {
      "text/plain": [
       "[{'label': 'sadness', 'score': 0.999119222164154},\n",
       " {'label': 'joy', 'score': 0.6767690181732178}]"
      ]
     },
     "execution_count": 7,
     "metadata": {},
     "output_type": "execute_result"
    }
   ],
   "source": [
    "\n",
    "\n",
    "objModel=MLMODEL.model(model_name,classifier)\n",
    "# l=['i have a feeling i kinda lost my best friend','hi there'] \n",
    "# objModel.get_prediction(l)\n",
    "# obj.result"
   ]
  },
  {
   "cell_type": "code",
   "execution_count": 9,
   "id": "d47f5016",
   "metadata": {},
   "outputs": [
    {
     "data": {
      "text/plain": [
       "[{'label': 'joy', 'score': 0.9140598773956299},\n",
       " {'label': 'joy', 'score': 0.999494194984436},\n",
       " {'label': 'joy', 'score': 0.9135587811470032}]"
      ]
     },
     "execution_count": 9,
     "metadata": {},
     "output_type": "execute_result"
    }
   ],
   "source": [
    "objModel.get_prediction(obj.text_list)"
   ]
  }
 ],
 "metadata": {
  "kernelspec": {
   "display_name": "Python 3",
   "language": "python",
   "name": "python3"
  },
  "language_info": {
   "codemirror_mode": {
    "name": "ipython",
    "version": 3
   },
   "file_extension": ".py",
   "mimetype": "text/x-python",
   "name": "python",
   "nbconvert_exporter": "python",
   "pygments_lexer": "ipython3",
   "version": "3.8.8"
  }
 },
 "nbformat": 4,
 "nbformat_minor": 5
}
